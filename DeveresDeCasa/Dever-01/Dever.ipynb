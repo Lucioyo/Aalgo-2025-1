{
 "cells": [
  {
   "cell_type": "markdown",
   "metadata": {},
   "source": [
    "# Dever 01 - Insertion Sort"
   ]
  },
  {
   "cell_type": "code",
   "execution_count": 3,
   "metadata": {},
   "outputs": [],
   "source": [
    "import time\n",
    "import numpy as np"
   ]
  },
  {
   "cell_type": "code",
   "execution_count": 4,
   "metadata": {},
   "outputs": [],
   "source": [
    "def insertion_sort(lista):\n",
    "    for i in range(1, len(lista)): # iteração a partir do segundo elemento\n",
    "        k = lista[i] # k: valor a ser realocado\n",
    "        j = i - 1 # j: índice anterior\n",
    "        \n",
    "        # Loop que para quando:\n",
    "        # 'j' for menor que o primeiro índice (nesse caso, quando for igual a -1) ou;\n",
    "        # 'k' for maior que o item anterior\n",
    "        while j >= 0 and k < lista[j]:\n",
    "            lista[j + 1] = lista[j] # desloca o elemento do índice 'j' para j+1\n",
    "            j -= 1 # atualiza o valor de 'j'\n",
    "        lista[j + 1] = k # realoca 'k'\n",
    "    return lista"
   ]
  },
  {
   "cell_type": "code",
   "execution_count": null,
   "metadata": {},
   "outputs": [],
   "source": [
    "# Listas com inteiros aleatórios entre 0 e 300\n",
    "lista_10 = np.random.randint(300, size=10)\n",
    "lista_100 = np.random.randint(300, size=100)\n",
    "lista_1000 = np.random.randint(300, size=1000)\n",
    "lista_10000 = np.random.randint(300, size=10000)\n",
    "lista_100000 = np.random.randint(300, size=100000)"
   ]
  },
  {
   "cell_type": "code",
   "execution_count": 43,
   "metadata": {},
   "outputs": [
    {
     "data": {
      "text/plain": [
       "0.1271500587463379"
      ]
     },
     "execution_count": 43,
     "metadata": {},
     "output_type": "execute_result"
    }
   ],
   "source": [
    "inicio = time.time()\n",
    "insertion_sort(lista_100000)\n",
    "tempo_gasto = time.time() - inicio\n",
    "tempo_gasto"
   ]
  },
  {
   "cell_type": "code",
   "execution_count": 1,
   "metadata": {},
   "outputs": [],
   "source": [
    "# Tempo de execução do algoritmo (pelo Google Colab):\n",
    "\n",
    "# Nº elementos  |  Tempo (s)\n",
    "# 10            |  0.0001027\n",
    "# 100           |  0.0006713\n",
    "# 1000          |  0.0511353\n",
    "# 10000         |  5.2130265\n",
    "# 100000        |  539.25725"
   ]
  }
 ],
 "metadata": {
  "kernelspec": {
   "display_name": ".venv",
   "language": "python",
   "name": "python3"
  },
  "language_info": {
   "codemirror_mode": {
    "name": "ipython",
    "version": 3
   },
   "file_extension": ".py",
   "mimetype": "text/x-python",
   "name": "python",
   "nbconvert_exporter": "python",
   "pygments_lexer": "ipython3",
   "version": "3.11.3"
  }
 },
 "nbformat": 4,
 "nbformat_minor": 2
}

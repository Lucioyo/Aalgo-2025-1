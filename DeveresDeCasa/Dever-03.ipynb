{
 "cells": [
  {
   "cell_type": "code",
   "execution_count": 1,
   "metadata": {},
   "outputs": [],
   "source": [
    "def is_palindromo(a: list):\n",
    "  if len(a) == 1 or len(a) == 0:\n",
    "    print('É palíndromo.')\n",
    "    return True\n",
    "  if a[0] == a[-1]:\n",
    "    return is_palindromo(a[1:-1])\n",
    "  else:\n",
    "    print('Não é palíndromo.')\n",
    "    return False"
   ]
  },
  {
   "cell_type": "code",
   "execution_count": 2,
   "metadata": {},
   "outputs": [],
   "source": [
    "array1 = [0, 1, 2, 3, 2, 1, 0]\n",
    "array2 = [\"a\", \"b\", \"b\", \"a\"]\n",
    "array3 = [\"a\", \"b\", \"c\", \"b\", \"a\"]\n",
    "array4 = [\"a\", \"b\", \"c\", \"f\", \"b\", \"a\"]"
   ]
  },
  {
   "cell_type": "code",
   "execution_count": 3,
   "metadata": {},
   "outputs": [
    {
     "name": "stdout",
     "output_type": "stream",
     "text": [
      "É palíndromo.\n",
      "É palíndromo.\n",
      "É palíndromo.\n",
      "Não é palíndromo.\n"
     ]
    },
    {
     "data": {
      "text/plain": [
       "False"
      ]
     },
     "execution_count": 3,
     "metadata": {},
     "output_type": "execute_result"
    }
   ],
   "source": [
    "is_palindromo(array1)\n",
    "is_palindromo(array2)\n",
    "is_palindromo(array3)\n",
    "is_palindromo(array4)"
   ]
  },
  {
   "cell_type": "code",
   "execution_count": null,
   "metadata": {},
   "outputs": [],
   "source": []
  }
 ],
 "metadata": {
  "kernelspec": {
   "display_name": ".venv",
   "language": "python",
   "name": "python3"
  },
  "language_info": {
   "codemirror_mode": {
    "name": "ipython",
    "version": 3
   },
   "file_extension": ".py",
   "mimetype": "text/x-python",
   "name": "python",
   "nbconvert_exporter": "python",
   "pygments_lexer": "ipython3",
   "version": "3.11.3"
  }
 },
 "nbformat": 4,
 "nbformat_minor": 2
}
